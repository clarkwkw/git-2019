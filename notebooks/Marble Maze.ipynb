{
 "cells": [
  {
   "cell_type": "markdown",
   "metadata": {},
   "source": [
    "<div style=\"background-color: #b85ca8; align-items: center; display: flex; flex-direction: row; justify-content: space-between;\">\n",
    "        <div style=\"height: '100%'; width: 900px; border-width: 1px; align-items: center; display: flex; flex-direction: row; \">\n",
    "            <img style=\"height: '100%';\" src=\"assets/marble-maze/banner.png\">\n",
    "            <img style=\"height: '100%'; width: 74px; margin-left: -65px; -webkit-transform: scaleX(-1); transform: scaleX(-1);\" src=\"assets/marble-maze/banner-separator.svg\">\n",
    "        </div>\n",
    "        <div style=\"margin-left: 20px; flex: 1; display: flex; flex-direction: column;\">\n",
    "            <div style=\"line-height: 24px; color: #ffffff; \">\n",
    "                <br/> <br/> <br/> <br />\n",
    "            You are going to create a marble maze game that can be played on the Raspberry Pi. You will use the built-in orientation sensors to control the movement of a simulated marble that moves the same way a real marble would roll around a maze.\n",
    "            </div>\n",
    "        </div>\n",
    "    \n",
    "</div>"
   ]
  },
  {
   "cell_type": "markdown",
   "metadata": {},
   "source": [
    "## Step 1: Design a maze\n",
    "\n",
    "Within the 8x8 grids, imagine the most complicated maze possible and draw it on a paper.\n",
    "\n",
    "To make the layout easier to organize, you may want to give each grid a corrdinate.\n",
    "\n",
    "<img src=\"assets/marble-maze/maze-design.jpg\" alt=\"Maze on paper\" style=\"width: 300px;\"/>"
   ]
  },
  {
   "cell_type": "markdown",
   "metadata": {},
   "source": [
    "## Step 2: Tell the computer about your maze\n",
    "\n",
    "Now, we need to tell the computer about our maze. Since we have numbered our grid, we can easily write down the maze as a 2d array. \n",
    "\n",
    "For example, if I have a 5x5 maze like this:\n",
    "<img src=\"assets/marble-maze/simple-maze.jpg\" alt=\"Simple maze\" style=\"width: 200px;\"/>\n",
    "\n",
    "Then I can turn them into this:\n",
    "```python\n",
    "MAZE = [\n",
    "    # W -> walls, G -> goal, C -> other cells\n",
    "    [W, W, W, W, W],\n",
    "    [W, C, C, C, W],\n",
    "    [W, C, W, C, W],\n",
    "    [W, C, C, G, W],\n",
    "    [W, W, W, W, W],\n",
    "]\n",
    "```"
   ]
  },
  {
   "cell_type": "code",
   "execution_count": 1,
   "metadata": {},
   "outputs": [],
   "source": [
    "W = (255,0,0) # Color of the walls, red by default\n",
    "G = (0,255,0) # Color of the goal, green by default\n",
    "C = (0, 0, 0) # Color of other cells, black by default"
   ]
  },
  {
   "cell_type": "code",
   "execution_count": 2,
   "metadata": {},
   "outputs": [],
   "source": [
    "MAZE = [\n",
    "    [],\n",
    "    [],\n",
    "    [],\n",
    "    [],\n",
    "    [],\n",
    "    [],\n",
    "    [],\n",
    "    [],\n",
    "]"
   ]
  },
  {
   "cell_type": "markdown",
   "metadata": {},
   "source": [
    "## Step 3: Add a marble\n",
    "\n",
    "The maze needs a marble. Let’s change one of the LEDs in the maze list to white to represent the marble."
   ]
  },
  {
   "cell_type": "code",
   "execution_count": null,
   "metadata": {},
   "outputs": [],
   "source": [
    "# Color of the marble, now it is white\n",
    "M = (255, 255, 255) \n",
    "x, y = "
   ]
  },
  {
   "cell_type": "markdown",
   "metadata": {},
   "source": [
    "## Step 4: Teach the computer how you want to move a marble\n",
    "\n",
    "\n",
    "The computer can detect movement along these axes:\n",
    "<img src=\"assets/marble-maze/sense-hat-axis.png\" style=\"width: 300px\" />\n",
    "\n",
    "### How does the pitch value change?\n",
    "Imagine that the Raspberry Pi with the Sense HAT attached is an aeroplane, and the end with the USB ports is the tail of the plane.\n",
    "\n",
    "When the Sense HAT is lying flat, the pitch should be approximately 0.\n",
    "<img src=\"assets/marble-maze/pitch-flat.png\" style=\"width: 300px\" />\n",
    "\n",
    "If the Sense HAT is rotated so that the nose of the ‘plane’ is pointing into the air (as it would at take-off), the pitch value will decrease (359,359,357,356…).\n",
    "<img src=\"assets/marble-maze/pitch-takeoff.png\" style=\"width: 300px\" />\n",
    "\n",
    "If the Sense HAT is rotated so that the nose of the ‘plane’ is pointing towards the ground (as it would during landing), the pitch value will increase (0,1,2,3,4…).\n",
    "<img src=\"assets/marble-maze/pitch-landing.png\" style=\"width: 300px\" />\n",
    "\n",
    "Now the problem is, the computer does not know how are pitch and roll related to moving a marble. Let's teach it."
   ]
  },
  {
   "cell_type": "code",
   "execution_count": null,
   "metadata": {},
   "outputs": [],
   "source": [
    "def move_marble(pitch, roll, x, y):\n",
    "    new_x, new_y = x, y\n",
    "    # how are pitch and roll related to the movement of the marble?\n",
    "\n",
    "    # what if the marble is running into a wall, should we do anything?\n",
    "        \n",
    "    return new_x, new_y"
   ]
  },
  {
   "cell_type": "markdown",
   "metadata": {},
   "source": [
    "## Step 5: Teach the computer about the winning condition\n",
    "\n",
    "The computer is really really dumb, we also need to let it know how to determine if we have won."
   ]
  },
  {
   "cell_type": "code",
   "execution_count": null,
   "metadata": {},
   "outputs": [],
   "source": [
    "def have_i_won(x, y):\n",
    "    # we want to return True when we have won\n",
    "    pass"
   ]
  },
  {
   "cell_type": "markdown",
   "metadata": {},
   "source": [
    "## Step 6: Putting everything together\n",
    "\n",
    "OK, now we have most of the stuff we need. Let's put them all together."
   ]
  },
  {
   "cell_type": "code",
   "execution_count": null,
   "metadata": {
    "hideCode": true
   },
   "outputs": [],
   "source": [
    "from sense_hat import SenseHat\n",
    "from time import sleep\n",
    "\n",
    "sense = SenseHat()\n",
    "sense.clear()\n",
    "\n",
    "def get_pitch_and_roll():\n",
    "    pitch = sense.get_orientation()['pitch']\n",
    "    roll = sense.get_orientation()['roll']\n",
    "    return pitch, roll\n",
    "\n",
    "def update_led(maze):\n",
    "    sense.set_pixels(sum(maze,[]))\n"
   ]
  },
  {
   "cell_type": "code",
   "execution_count": null,
   "metadata": {},
   "outputs": [],
   "source": [
    "# We have already told the computer about:\n",
    "# 1. our maze `MAZE`\n",
    "# 2. the initial position of our marble `x, y`\n",
    "# 3. how to move a marble `move_marble(pitch, roll, x, y)`\n",
    "# 4. how to determine whether we have won `move_marble(pitch, roll, x, y)`\n",
    "# The computer itself knows about:\n",
    "# 1. how to detect the orientation, we can get the values by: `pitch, roll = get_pitch_and_roll()`\n",
    "# 2. how to update the LED display, we can do it by: `update_led(MAZE)`\n",
    "\n",
    "game_finished = False\n",
    "while not game_finished:\n",
    "    # to move a marble, we need to detect the orientation of the Sense Hat\n",
    "    # and then update the maze and show it on LED    \n",
    "    pass\n",
    "\n",
    "sense.show_message('Yay, you Win')"
   ]
  },
  {
   "cell_type": "markdown",
   "metadata": {
    "hidePrompt": false
   },
   "source": [
    "## Do I have this problem?\n",
    "If not, congratulations! Enjoy the game.\n",
    "\n",
    "### When the marble moves, a whole line of LEDs illuminate, instead of just one LED\n",
    "1. When the marble moves, we set the LED of the new position to `C`.\n",
    "   But what should we do with the old position?\n",
    "2. We can even add `sleep(0.01)` to make the transition more obvious.\n",
    "\n",
    "### The code breaks with a IndexError: list assignment index out of range message\n",
    "It is because we go outside the boundary of the 8x8 LED matrix. Check `move_marble` to see what we could do.\n",
    "\n",
    "### My walls are not solid. My marble can walk on it\n",
    "Check `move_marble` and think what we should do when a marble is going to hit the wall."
   ]
  },
  {
   "cell_type": "markdown",
   "metadata": {
    "hidePrompt": false
   },
   "source": [
    "## Challenge: improve the maze\n",
    "\n",
    "- Change the speed of the marble’s movement to make the game easier or more difficult.\n",
    "\n",
    "- Alter the code so that the goal changes position each time the player wins a game.\n",
    "\n",
    "- Create several mazes and choose one at random at the beginning of each round.\n",
    "\n",
    "- Add in a second marble that starts in another part of the maze."
   ]
  }
 ],
 "metadata": {
  "celltoolbar": "Hide code",
  "kernelspec": {
   "display_name": "Python 3",
   "language": "python",
   "name": "python3"
  },
  "language_info": {
   "codemirror_mode": {
    "name": "ipython",
    "version": 3
   },
   "file_extension": ".py",
   "mimetype": "text/x-python",
   "name": "python",
   "nbconvert_exporter": "python",
   "pygments_lexer": "ipython3",
   "version": "3.6.8"
  }
 },
 "nbformat": 4,
 "nbformat_minor": 2
}
